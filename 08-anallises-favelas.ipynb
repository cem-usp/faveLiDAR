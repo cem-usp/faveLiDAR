{
 "cells": [
  {
   "cell_type": "code",
   "execution_count": 1,
   "metadata": {},
   "outputs": [],
   "source": [
    "import geopandas as gpd"
   ]
  },
  {
   "cell_type": "code",
   "execution_count": 2,
   "metadata": {},
   "outputs": [],
   "source": [
    "gdf_favelas = gpd.read_file('data/favelas_calculadas.gpkg')"
   ]
  },
  {
   "cell_type": "code",
   "execution_count": 3,
   "metadata": {},
   "outputs": [
    {
     "data": {
      "text/plain": [
       "25.308488504655276"
      ]
     },
     "execution_count": 3,
     "metadata": {},
     "output_type": "execute_result"
    }
   ],
   "source": [
    "gdf_favelas.area.sum() / 10**6"
   ]
  },
  {
   "cell_type": "code",
   "execution_count": 4,
   "metadata": {},
   "outputs": [],
   "source": [
    "gdf_favelas_stats = gpd.read_file('data/delta/favelas_zonal_stats.gpkg')"
   ]
  },
  {
   "cell_type": "code",
   "execution_count": 5,
   "metadata": {},
   "outputs": [
    {
     "data": {
      "text/plain": [
       "Index(['ds_codigo', 'ds_subpref', 'ds_cd_sub', 'ds_sigla', 'ds_nome', '2017',\n",
       "       '2018', '2019', '2020', 'Área Total Construída', '2017_count',\n",
       "       '2017_sum', '2017_median', '2017_variance', 'delta_count', 'delta_sum',\n",
       "       'delta_median', 'delta_variance', 'geometry'],\n",
       "      dtype='object')"
      ]
     },
     "execution_count": 5,
     "metadata": {},
     "output_type": "execute_result"
    }
   ],
   "source": [
    "gdf_favelas_stats.columns"
   ]
  },
  {
   "cell_type": "code",
   "execution_count": 6,
   "metadata": {},
   "outputs": [
    {
     "data": {
      "text/plain": [
       "210.66463614931624"
      ]
     },
     "execution_count": 6,
     "metadata": {},
     "output_type": "execute_result"
    }
   ],
   "source": [
    "area_construida_favelas = (gdf_favelas_stats['2017_sum'].sum() + gdf_favelas_stats.delta_sum.sum()) / 3.4 / 10**6\n",
    "area_construida_favelas"
   ]
  },
  {
   "cell_type": "code",
   "execution_count": 7,
   "metadata": {},
   "outputs": [
    {
     "data": {
      "text/plain": [
       "0.18106269598304775"
      ]
     },
     "execution_count": 7,
     "metadata": {},
     "output_type": "execute_result"
    }
   ],
   "source": [
    "area_construida_favelas / 1163.49"
   ]
  },
  {
   "cell_type": "code",
   "execution_count": 8,
   "metadata": {},
   "outputs": [
    {
     "data": {
      "text/plain": [
       "102.711551"
      ]
     },
     "execution_count": 8,
     "metadata": {},
     "output_type": "execute_result"
    }
   ],
   "source": [
    "projecao_construida_favelas = (gdf_favelas_stats['2017_count'].sum() + gdf_favelas_stats.delta_count.sum()) / 10**6\n",
    "projecao_construida_favelas"
   ]
  },
  {
   "cell_type": "code",
   "execution_count": 9,
   "metadata": {},
   "outputs": [
    {
     "data": {
      "text/plain": [
       "0.2081456470635918"
      ]
     },
     "execution_count": 9,
     "metadata": {},
     "output_type": "execute_result"
    }
   ],
   "source": [
    "projecao_construida_favelas / 493.46"
   ]
  },
  {
   "cell_type": "code",
   "execution_count": 10,
   "metadata": {},
   "outputs": [
    {
     "data": {
      "text/plain": [
       "2.051031593801132"
      ]
     },
     "execution_count": 10,
     "metadata": {},
     "output_type": "execute_result"
    }
   ],
   "source": [
    "area_construida_favelas / projecao_construida_favelas"
   ]
  },
  {
   "cell_type": "code",
   "execution_count": 11,
   "metadata": {},
   "outputs": [
    {
     "data": {
      "text/plain": [
       "8.323872684477633"
      ]
     },
     "execution_count": 11,
     "metadata": {},
     "output_type": "execute_result"
    }
   ],
   "source": [
    "area_construida_favelas / (gdf_favelas.area.sum() / 10**6)"
   ]
  },
  {
   "cell_type": "code",
   "execution_count": 12,
   "metadata": {},
   "outputs": [],
   "source": [
    "gdf_favelas_calculadas = gpd.read_file('data/favelas_calculadas.gpkg')"
   ]
  },
  {
   "cell_type": "code",
   "execution_count": 13,
   "metadata": {},
   "outputs": [],
   "source": [
    "gdf_favelas_calculadas.loc[:, 'area_construida'] = (gdf_favelas_calculadas['2017_sum'] + gdf_favelas_calculadas['delta_sum']) / 3.4"
   ]
  },
  {
   "cell_type": "code",
   "execution_count": 14,
   "metadata": {},
   "outputs": [],
   "source": [
    "gdf_favelas_calculadas.loc[:, 'area_projecao'] = (gdf_favelas_calculadas['2017_count'] + gdf_favelas_calculadas['delta_count'])"
   ]
  },
  {
   "cell_type": "code",
   "execution_count": 15,
   "metadata": {},
   "outputs": [],
   "source": [
    "gdf_favelas_calculadas.loc[:, 'coeficiente_de_verticalidade'] = gdf_favelas_calculadas.loc[:, 'area_construida'] / gdf_favelas_calculadas.loc[:, 'area_projecao']"
   ]
  },
  {
   "cell_type": "code",
   "execution_count": 16,
   "metadata": {},
   "outputs": [],
   "source": [
    "gdf_favelas_calculadas.loc[:, 'densidade_construtiva'] = gdf_favelas_calculadas.loc[:, 'area_construida'] / gdf_favelas_calculadas.area"
   ]
  },
  {
   "cell_type": "code",
   "execution_count": null,
   "metadata": {},
   "outputs": [],
   "source": []
  },
  {
   "cell_type": "code",
   "execution_count": 17,
   "metadata": {},
   "outputs": [
    {
     "data": {
      "text/html": [
       "<div>\n",
       "<style scoped>\n",
       "    .dataframe tbody tr th:only-of-type {\n",
       "        vertical-align: middle;\n",
       "    }\n",
       "\n",
       "    .dataframe tbody tr th {\n",
       "        vertical-align: top;\n",
       "    }\n",
       "\n",
       "    .dataframe thead th {\n",
       "        text-align: right;\n",
       "    }\n",
       "</style>\n",
       "<table border=\"1\" class=\"dataframe\">\n",
       "  <thead>\n",
       "    <tr style=\"text-align: right;\">\n",
       "      <th></th>\n",
       "      <th>fv_nome</th>\n",
       "      <th>densidade_construtiva</th>\n",
       "    </tr>\n",
       "  </thead>\n",
       "  <tbody>\n",
       "    <tr>\n",
       "      <th>655</th>\n",
       "      <td>RICARDO DA COSTA</td>\n",
       "      <td>3.464673</td>\n",
       "    </tr>\n",
       "    <tr>\n",
       "      <th>1138</th>\n",
       "      <td>BENTO BICUDO II</td>\n",
       "      <td>3.193820</td>\n",
       "    </tr>\n",
       "    <tr>\n",
       "      <th>1724</th>\n",
       "      <td>ILHA DAS COBRAS</td>\n",
       "      <td>2.954317</td>\n",
       "    </tr>\n",
       "    <tr>\n",
       "      <th>437</th>\n",
       "      <td>MARIA TERESA GAUDINO</td>\n",
       "      <td>2.934682</td>\n",
       "    </tr>\n",
       "    <tr>\n",
       "      <th>1247</th>\n",
       "      <td>SEBASTIANA</td>\n",
       "      <td>2.928200</td>\n",
       "    </tr>\n",
       "    <tr>\n",
       "      <th>602</th>\n",
       "      <td>IRGA</td>\n",
       "      <td>2.912995</td>\n",
       "    </tr>\n",
       "    <tr>\n",
       "      <th>395</th>\n",
       "      <td>SERAFIM POLI</td>\n",
       "      <td>2.895041</td>\n",
       "    </tr>\n",
       "    <tr>\n",
       "      <th>648</th>\n",
       "      <td>ANTONIO ROMANO DE OLIVEIRA</td>\n",
       "      <td>2.894469</td>\n",
       "    </tr>\n",
       "    <tr>\n",
       "      <th>1270</th>\n",
       "      <td>MARCONI CURUÇA</td>\n",
       "      <td>2.883142</td>\n",
       "    </tr>\n",
       "    <tr>\n",
       "      <th>486</th>\n",
       "      <td>SANTA JULIA</td>\n",
       "      <td>2.877331</td>\n",
       "    </tr>\n",
       "    <tr>\n",
       "      <th>1266</th>\n",
       "      <td>JARDIM CLIMAX II</td>\n",
       "      <td>2.865638</td>\n",
       "    </tr>\n",
       "    <tr>\n",
       "      <th>647</th>\n",
       "      <td>MAURICE DENIS</td>\n",
       "      <td>2.838156</td>\n",
       "    </tr>\n",
       "    <tr>\n",
       "      <th>1186</th>\n",
       "      <td>NOVA TIETE</td>\n",
       "      <td>2.835944</td>\n",
       "    </tr>\n",
       "    <tr>\n",
       "      <th>634</th>\n",
       "      <td>ARMAÇÃO</td>\n",
       "      <td>2.826828</td>\n",
       "    </tr>\n",
       "    <tr>\n",
       "      <th>582</th>\n",
       "      <td>BAVARIA</td>\n",
       "      <td>2.823579</td>\n",
       "    </tr>\n",
       "    <tr>\n",
       "      <th>1377</th>\n",
       "      <td>MANOEL ALVES MESQUITA</td>\n",
       "      <td>2.818687</td>\n",
       "    </tr>\n",
       "    <tr>\n",
       "      <th>1355</th>\n",
       "      <td>MANSORES</td>\n",
       "      <td>2.815331</td>\n",
       "    </tr>\n",
       "    <tr>\n",
       "      <th>892</th>\n",
       "      <td>FELIX FLAMENGO</td>\n",
       "      <td>2.811713</td>\n",
       "    </tr>\n",
       "    <tr>\n",
       "      <th>164</th>\n",
       "      <td>CROMER</td>\n",
       "      <td>2.802838</td>\n",
       "    </tr>\n",
       "    <tr>\n",
       "      <th>149</th>\n",
       "      <td>BASILÉIA II</td>\n",
       "      <td>2.784481</td>\n",
       "    </tr>\n",
       "  </tbody>\n",
       "</table>\n",
       "</div>"
      ],
      "text/plain": [
       "                         fv_nome  densidade_construtiva\n",
       "655             RICARDO DA COSTA               3.464673\n",
       "1138             BENTO BICUDO II               3.193820\n",
       "1724             ILHA DAS COBRAS               2.954317\n",
       "437         MARIA TERESA GAUDINO               2.934682\n",
       "1247                  SEBASTIANA               2.928200\n",
       "602                         IRGA               2.912995\n",
       "395                 SERAFIM POLI               2.895041\n",
       "648   ANTONIO ROMANO DE OLIVEIRA               2.894469\n",
       "1270              MARCONI CURUÇA               2.883142\n",
       "486                  SANTA JULIA               2.877331\n",
       "1266            JARDIM CLIMAX II               2.865638\n",
       "647                MAURICE DENIS               2.838156\n",
       "1186                  NOVA TIETE               2.835944\n",
       "634                      ARMAÇÃO               2.826828\n",
       "582                      BAVARIA               2.823579\n",
       "1377       MANOEL ALVES MESQUITA               2.818687\n",
       "1355                    MANSORES               2.815331\n",
       "892               FELIX FLAMENGO               2.811713\n",
       "164                       CROMER               2.802838\n",
       "149                  BASILÉIA II               2.784481"
      ]
     },
     "execution_count": 17,
     "metadata": {},
     "output_type": "execute_result"
    }
   ],
   "source": [
    "gdf_favelas_calculadas.loc[:, ['fv_nome', 'densidade_construtiva']].sort_values(by='densidade_construtiva', ascending=False).head(20)"
   ]
  },
  {
   "cell_type": "code",
   "execution_count": 18,
   "metadata": {},
   "outputs": [
    {
     "name": "stderr",
     "output_type": "stream",
     "text": [
      "/home/fernando/miniconda3/envs/pdal/lib/python3.10/site-packages/pandas/core/dtypes/inference.py:383: ShapelyDeprecationWarning: Iteration over multi-part geometries is deprecated and will be removed in Shapely 2.0. Use the `geoms` property to access the constituent parts of a multi-part geometry.\n",
      "  iter(obj)  # Can iterate over it.\n",
      "/home/fernando/miniconda3/envs/pdal/lib/python3.10/site-packages/pandas/core/dtypes/inference.py:384: ShapelyDeprecationWarning: __len__ for multi-part geometries is deprecated and will be removed in Shapely 2.0. Check the length of the `geoms` property instead to get the  number of parts of a multi-part geometry.\n",
      "  len(obj)  # Has a length associated with it.\n",
      "/home/fernando/miniconda3/envs/pdal/lib/python3.10/site-packages/pandas/io/formats/printing.py:117: ShapelyDeprecationWarning: Iteration over multi-part geometries is deprecated and will be removed in Shapely 2.0. Use the `geoms` property to access the constituent parts of a multi-part geometry.\n",
      "  s = iter(seq)\n",
      "/home/fernando/miniconda3/envs/pdal/lib/python3.10/site-packages/pandas/io/formats/printing.py:121: ShapelyDeprecationWarning: __len__ for multi-part geometries is deprecated and will be removed in Shapely 2.0. Check the length of the `geoms` property instead to get the  number of parts of a multi-part geometry.\n",
      "  for i in range(min(nitems, len(seq)))\n",
      "/home/fernando/miniconda3/envs/pdal/lib/python3.10/site-packages/pandas/io/formats/printing.py:125: ShapelyDeprecationWarning: __len__ for multi-part geometries is deprecated and will be removed in Shapely 2.0. Check the length of the `geoms` property instead to get the  number of parts of a multi-part geometry.\n",
      "  if nitems < len(seq):\n"
     ]
    },
    {
     "data": {
      "text/plain": [
       "fv_id                                                                         656\n",
       "fv_nome                                                          RICARDO DA COSTA\n",
       "fv_nom_sec                                                                   None\n",
       "fv_local                                                RUA RICARDO DA COSTA, 115\n",
       "fv_domicil                                                                    3.0\n",
       "fv_area                                                                   2180.87\n",
       "fv_ano_imp                                                                    NaN\n",
       "fv_tp_prop                                                         Sem informação\n",
       "2017_count                                                                 1146.0\n",
       "2017_sum                                                              5845.925781\n",
       "2017_mean                                                                5.101157\n",
       "delta_count                                                                1112.0\n",
       "delta_sum                                                                 19844.5\n",
       "delta_median                                                                 18.0\n",
       "delta_variance                                                           6.509263\n",
       "geometry                        (POLYGON ((357899.4238 7390905.2303, 357899.58...\n",
       "area_construida                                                       7556.007583\n",
       "area_projecao                                                              2258.0\n",
       "coeficiente_de_verticalidade                                             3.346328\n",
       "densidade_construtiva                                                    3.464673\n",
       "Name: 655, dtype: object"
      ]
     },
     "execution_count": 18,
     "metadata": {},
     "output_type": "execute_result"
    }
   ],
   "source": [
    "gdf_favelas_calculadas.iloc[655]"
   ]
  },
  {
   "cell_type": "code",
   "execution_count": 19,
   "metadata": {},
   "outputs": [
    {
     "data": {
      "text/plain": [
       "2180.8719948462417"
      ]
     },
     "execution_count": 19,
     "metadata": {},
     "output_type": "execute_result"
    }
   ],
   "source": [
    "gdf_favelas_calculadas.iloc[655].geometry.area"
   ]
  },
  {
   "cell_type": "code",
   "execution_count": 20,
   "metadata": {},
   "outputs": [
    {
     "data": {
      "text/html": [
       "<div>\n",
       "<style scoped>\n",
       "    .dataframe tbody tr th:only-of-type {\n",
       "        vertical-align: middle;\n",
       "    }\n",
       "\n",
       "    .dataframe tbody tr th {\n",
       "        vertical-align: top;\n",
       "    }\n",
       "\n",
       "    .dataframe thead th {\n",
       "        text-align: right;\n",
       "    }\n",
       "</style>\n",
       "<table border=\"1\" class=\"dataframe\">\n",
       "  <thead>\n",
       "    <tr style=\"text-align: right;\">\n",
       "      <th></th>\n",
       "      <th>fv_nome</th>\n",
       "      <th>area_construida</th>\n",
       "    </tr>\n",
       "  </thead>\n",
       "  <tbody>\n",
       "    <tr>\n",
       "      <th>385</th>\n",
       "      <td>PARAISÓPOLIS</td>\n",
       "      <td>1.581510e+06</td>\n",
       "    </tr>\n",
       "    <tr>\n",
       "      <th>1476</th>\n",
       "      <td>HELIÓPOLIS</td>\n",
       "      <td>1.513633e+06</td>\n",
       "    </tr>\n",
       "  </tbody>\n",
       "</table>\n",
       "</div>"
      ],
      "text/plain": [
       "           fv_nome  area_construida\n",
       "385   PARAISÓPOLIS     1.581510e+06\n",
       "1476    HELIÓPOLIS     1.513633e+06"
      ]
     },
     "execution_count": 20,
     "metadata": {},
     "output_type": "execute_result"
    }
   ],
   "source": [
    "gdf_favelas_calculadas.loc[:, ['fv_nome', 'area_construida']].sort_values(by='area_construida', ascending=False).head(2)"
   ]
  },
  {
   "cell_type": "code",
   "execution_count": 21,
   "metadata": {},
   "outputs": [
    {
     "data": {
      "text/plain": [
       "748063.5949361478"
      ]
     },
     "execution_count": 21,
     "metadata": {},
     "output_type": "execute_result"
    }
   ],
   "source": [
    "gdf_favelas_calculadas.iloc[385].geometry.area"
   ]
  },
  {
   "cell_type": "code",
   "execution_count": 22,
   "metadata": {},
   "outputs": [
    {
     "name": "stderr",
     "output_type": "stream",
     "text": [
      "/home/fernando/miniconda3/envs/pdal/lib/python3.10/site-packages/pandas/core/dtypes/inference.py:383: ShapelyDeprecationWarning: Iteration over multi-part geometries is deprecated and will be removed in Shapely 2.0. Use the `geoms` property to access the constituent parts of a multi-part geometry.\n",
      "  iter(obj)  # Can iterate over it.\n",
      "/home/fernando/miniconda3/envs/pdal/lib/python3.10/site-packages/pandas/core/dtypes/inference.py:384: ShapelyDeprecationWarning: __len__ for multi-part geometries is deprecated and will be removed in Shapely 2.0. Check the length of the `geoms` property instead to get the  number of parts of a multi-part geometry.\n",
      "  len(obj)  # Has a length associated with it.\n",
      "/home/fernando/miniconda3/envs/pdal/lib/python3.10/site-packages/pandas/io/formats/printing.py:117: ShapelyDeprecationWarning: Iteration over multi-part geometries is deprecated and will be removed in Shapely 2.0. Use the `geoms` property to access the constituent parts of a multi-part geometry.\n",
      "  s = iter(seq)\n",
      "/home/fernando/miniconda3/envs/pdal/lib/python3.10/site-packages/pandas/io/formats/printing.py:121: ShapelyDeprecationWarning: __len__ for multi-part geometries is deprecated and will be removed in Shapely 2.0. Check the length of the `geoms` property instead to get the  number of parts of a multi-part geometry.\n",
      "  for i in range(min(nitems, len(seq)))\n",
      "/home/fernando/miniconda3/envs/pdal/lib/python3.10/site-packages/pandas/io/formats/printing.py:125: ShapelyDeprecationWarning: __len__ for multi-part geometries is deprecated and will be removed in Shapely 2.0. Check the length of the `geoms` property instead to get the  number of parts of a multi-part geometry.\n",
      "  if nitems < len(seq):\n"
     ]
    },
    {
     "data": {
      "text/plain": [
       "fv_id                                                                         386\n",
       "fv_nome                                                              PARAISÓPOLIS\n",
       "fv_nom_sec                                                                   None\n",
       "fv_local                                                     RUA PASQUALE GALLUPI\n",
       "fv_domicil                                                                17159.0\n",
       "fv_area                                                                  788093.8\n",
       "fv_ano_imp                                                                 1960.0\n",
       "fv_tp_prop                                                     Pública/Particular\n",
       "2017_count                                                               628328.0\n",
       "2017_sum                                                           5124290.127375\n",
       "2017_mean                                                                8.155438\n",
       "delta_count                                                               34206.0\n",
       "delta_sum                                                                252843.0\n",
       "delta_median                                                                  6.0\n",
       "delta_variance                                                          16.504694\n",
       "geometry                        (POLYGON ((323327.5267 7386833.6061, 323328.54...\n",
       "area_construida                                                    1581509.743345\n",
       "area_projecao                                                            662534.0\n",
       "coeficiente_de_verticalidade                                             2.387062\n",
       "densidade_construtiva                                                    2.114138\n",
       "Name: 385, dtype: object"
      ]
     },
     "execution_count": 22,
     "metadata": {},
     "output_type": "execute_result"
    }
   ],
   "source": [
    "gdf_favelas_calculadas.iloc[385]"
   ]
  },
  {
   "cell_type": "code",
   "execution_count": 23,
   "metadata": {},
   "outputs": [
    {
     "data": {
      "text/plain": [
       "624214.8874297556"
      ]
     },
     "execution_count": 23,
     "metadata": {},
     "output_type": "execute_result"
    }
   ],
   "source": [
    "gdf_favelas_calculadas.iloc[1476].geometry.area"
   ]
  },
  {
   "cell_type": "code",
   "execution_count": 24,
   "metadata": {},
   "outputs": [
    {
     "data": {
      "text/plain": [
       "fv_id                                                                        1477\n",
       "fv_nome                                                                HELIÓPOLIS\n",
       "fv_nom_sec                                                                   None\n",
       "fv_local                            ESTRADA DAS LAGRIMAS / RUA ALMIRANTE DELAMARE\n",
       "fv_domicil                                                                15843.0\n",
       "fv_area                                                                 624214.89\n",
       "fv_ano_imp                                                                 1972.0\n",
       "fv_tp_prop                                                                Pública\n",
       "2017_count                                                               554990.0\n",
       "2017_sum                                                           5002452.753784\n",
       "2017_mean                                                                9.013591\n",
       "delta_count                                                               18632.0\n",
       "delta_sum                                                                143898.0\n",
       "delta_median                                                                  6.0\n",
       "delta_variance                                                          13.222191\n",
       "geometry                        (POLYGON ((337277.736 7388564.7746, 337328.726...\n",
       "area_construida                                                    1513632.574643\n",
       "area_projecao                                                            573622.0\n",
       "coeficiente_de_verticalidade                                             2.638728\n",
       "densidade_construtiva                                                    2.424858\n",
       "Name: 1476, dtype: object"
      ]
     },
     "execution_count": 24,
     "metadata": {},
     "output_type": "execute_result"
    }
   ],
   "source": [
    "gdf_favelas_calculadas.iloc[1476]"
   ]
  },
  {
   "cell_type": "code",
   "execution_count": 25,
   "metadata": {},
   "outputs": [
    {
     "data": {
      "text/plain": [
       "Index(['fv_id', 'fv_nome', 'fv_nom_sec', 'fv_local', 'fv_domicil', 'fv_area',\n",
       "       'fv_ano_imp', 'fv_tp_prop', '2017_count', '2017_sum', '2017_mean',\n",
       "       'delta_count', 'delta_sum', 'delta_median', 'delta_variance',\n",
       "       'geometry', 'area_construida', 'area_projecao',\n",
       "       'coeficiente_de_verticalidade', 'densidade_construtiva'],\n",
       "      dtype='object')"
      ]
     },
     "execution_count": 25,
     "metadata": {},
     "output_type": "execute_result"
    }
   ],
   "source": [
    "gdf_favelas_calculadas.columns"
   ]
  },
  {
   "cell_type": "code",
   "execution_count": 27,
   "metadata": {},
   "outputs": [],
   "source": [
    "gdf_favelas_dissolvidas = gpd.read_file('data/favelas_dissolvidas.gpkg')"
   ]
  },
  {
   "cell_type": "code",
   "execution_count": 28,
   "metadata": {},
   "outputs": [
    {
     "data": {
      "text/plain": [
       "5.107668872543784"
      ]
     },
     "execution_count": 28,
     "metadata": {},
     "output_type": "execute_result"
    }
   ],
   "source": [
    "# gdf_favelas_calculadas.loc[:, 'crescimento_em_area'] = \n",
    "(gdf_favelas_dissolvidas['delta_sum'] / 3.4 / 10**6).sum()"
   ]
  },
  {
   "cell_type": "code",
   "execution_count": 29,
   "metadata": {},
   "outputs": [
    {
     "data": {
      "text/plain": [
       "4.38"
      ]
     },
     "execution_count": 29,
     "metadata": {},
     "output_type": "execute_result"
    }
   ],
   "source": [
    "10.32 - 0.83 - 5.11"
   ]
  },
  {
   "cell_type": "code",
   "execution_count": null,
   "metadata": {},
   "outputs": [],
   "source": []
  }
 ],
 "metadata": {
  "kernelspec": {
   "display_name": "pdal",
   "language": "python",
   "name": "python3"
  },
  "language_info": {
   "codemirror_mode": {
    "name": "ipython",
    "version": 3
   },
   "file_extension": ".py",
   "mimetype": "text/x-python",
   "name": "python",
   "nbconvert_exporter": "python",
   "pygments_lexer": "ipython3",
   "version": "3.10.6"
  },
  "orig_nbformat": 4
 },
 "nbformat": 4,
 "nbformat_minor": 2
}
