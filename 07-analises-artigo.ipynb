{
 "cells": [
  {
   "cell_type": "code",
   "execution_count": 1,
   "metadata": {},
   "outputs": [],
   "source": [
    "import geopandas as gpd"
   ]
  },
  {
   "cell_type": "code",
   "execution_count": 2,
   "metadata": {},
   "outputs": [],
   "source": [
    "gdf_zonal = gpd.read_file('data/delta/distritos_zonal_stats.gpkg')"
   ]
  },
  {
   "cell_type": "code",
   "execution_count": 5,
   "metadata": {},
   "outputs": [
    {
     "data": {
      "text/plain": [
       "Index(['ds_codigo', 'ds_subpref', 'ds_cd_sub', 'ds_sigla', 'ds_nome', '2017',\n",
       "       '2018', '2019', '2020', 'Área Total Construída', 'count_delta',\n",
       "       'sum_delta', 'std_delta', 'median_delta', 'percentile_25_delta',\n",
       "       'percentile_75_delta', 'nodata_delta', 'count_2017', 'sum_2017',\n",
       "       'std_2017', 'median_2017', 'percentile_25_2017', 'percentile_75_2017',\n",
       "       'nodata_2017', 'acrescimo_lidar_m2', 'taxa_de_informalidade_2017_2020',\n",
       "       'total_m2_2017', 'metros_informais_2017_2020',\n",
       "       'informalidade_geral_2020_m2', 'cidade_informal_m2',\n",
       "       'cidade_total_lidar_m2', 'geometry'],\n",
       "      dtype='object')"
      ]
     },
     "execution_count": 5,
     "metadata": {},
     "output_type": "execute_result"
    }
   ],
   "source": [
    "gdf_zonal.columns"
   ]
  },
  {
   "cell_type": "code",
   "execution_count": 8,
   "metadata": {},
   "outputs": [
    {
     "data": {
      "text/plain": [
       "1163489922.6976104"
      ]
     },
     "execution_count": 8,
     "metadata": {},
     "output_type": "execute_result"
    }
   ],
   "source": [
    "# Metragem total do estoque construído na cidade\n",
    "estoque_total = gdf_zonal.cidade_total_lidar_m2.sum()\n",
    "estoque_total"
   ]
  },
  {
   "cell_type": "code",
   "execution_count": 24,
   "metadata": {},
   "outputs": [
    {
     "data": {
      "text/plain": [
       "1163.4899226976104"
      ]
     },
     "execution_count": 24,
     "metadata": {},
     "output_type": "execute_result"
    }
   ],
   "source": [
    "estoque_total / 10**6 # em Km²"
   ]
  },
  {
   "cell_type": "code",
   "execution_count": 12,
   "metadata": {},
   "outputs": [
    {
     "data": {
      "text/plain": [
       "536638515"
      ]
     },
     "execution_count": 12,
     "metadata": {},
     "output_type": "execute_result"
    }
   ],
   "source": [
    "# Metragem total cadastro\n",
    "metragem_total_cadastro = gdf_zonal.loc[:, '2020'].sum()\n",
    "metragem_total_cadastro"
   ]
  },
  {
   "cell_type": "code",
   "execution_count": 23,
   "metadata": {},
   "outputs": [
    {
     "data": {
      "text/plain": [
       "536.638515"
      ]
     },
     "execution_count": 23,
     "metadata": {},
     "output_type": "execute_result"
    }
   ],
   "source": [
    "metragem_total_cadastro / 10**6 # em Km²"
   ]
  },
  {
   "cell_type": "code",
   "execution_count": 27,
   "metadata": {},
   "outputs": [
    {
     "data": {
      "text/plain": [
       "626.8514076976104"
      ]
     },
     "execution_count": 27,
     "metadata": {},
     "output_type": "execute_result"
    }
   ],
   "source": [
    "# Diferenca construida fora do cadastro\n",
    "diferenca_fora_do_cadastro = (estoque_total - metragem_total_cadastro) \n",
    "diferenca_fora_do_cadastro / 10**6"
   ]
  },
  {
   "cell_type": "code",
   "execution_count": null,
   "metadata": {},
   "outputs": [],
   "source": [
    "diferenca_fora_do_cadastro / estoque_total\n"
   ]
  }
 ],
 "metadata": {
  "kernelspec": {
   "display_name": "pdal",
   "language": "python",
   "name": "python3"
  },
  "language_info": {
   "codemirror_mode": {
    "name": "ipython",
    "version": 3
   },
   "file_extension": ".py",
   "mimetype": "text/x-python",
   "name": "python",
   "nbconvert_exporter": "python",
   "pygments_lexer": "ipython3",
   "version": "3.10.6"
  },
  "orig_nbformat": 4
 },
 "nbformat": 4,
 "nbformat_minor": 2
}
