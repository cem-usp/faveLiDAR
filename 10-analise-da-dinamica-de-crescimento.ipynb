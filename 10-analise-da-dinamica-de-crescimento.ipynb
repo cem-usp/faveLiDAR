{
 "cells": [
  {
   "cell_type": "code",
   "execution_count": null,
   "metadata": {},
   "outputs": [],
   "source": [
    "import geopandas as gpd"
   ]
  },
  {
   "cell_type": "code",
   "execution_count": null,
   "metadata": {},
   "outputs": [],
   "source": [
    "gdf_crescimento = gpd.read_file('data/delta/distritos_zonal_stats.gpkg')"
   ]
  },
  {
   "cell_type": "code",
   "execution_count": null,
   "metadata": {},
   "outputs": [
    {
     "data": {
      "text/plain": [
       "Index(['ds_codigo', 'ds_subpref', 'ds_cd_sub', 'ds_sigla', 'ds_nome', '2017',\n",
       "       '2018', '2019', '2020', 'Área Total Construída', 'count_delta',\n",
       "       'sum_delta', 'std_delta', 'median_delta', 'percentile_25_delta',\n",
       "       'percentile_75_delta', 'nodata_delta', 'count_2017', 'sum_2017',\n",
       "       'std_2017', 'median_2017', 'percentile_25_2017', 'percentile_75_2017',\n",
       "       'nodata_2017', 'acrescimo_lidar_m2', 'taxa_de_informalidade_2017_2020',\n",
       "       'total_m2_2017', 'metros_informais_2017_2020',\n",
       "       'informalidade_geral_2020_m2', 'cidade_informal_m2',\n",
       "       'cidade_total_lidar_m2', 'geometry'],\n",
       "      dtype='object')"
      ]
     },
     "execution_count": 3,
     "metadata": {},
     "output_type": "execute_result"
    }
   ],
   "source": [
    "gdf_crescimento.columns"
   ]
  },
  {
   "cell_type": "code",
   "execution_count": null,
   "metadata": {},
   "outputs": [
    {
     "data": {
      "text/plain": [
       "16.845358"
      ]
     },
     "execution_count": 8,
     "metadata": {},
     "output_type": "execute_result"
    }
   ],
   "source": [
    "crescimento_cadastro = gdf_crescimento.loc[:, 'Área Total Construída'].sum() / 10**6\n",
    "crescimento_cadastro"
   ]
  },
  {
   "cell_type": "code",
   "execution_count": null,
   "metadata": {},
   "outputs": [
    {
     "data": {
      "text/plain": [
       "27.17291049172794"
      ]
     },
     "execution_count": 9,
     "metadata": {},
     "output_type": "execute_result"
    }
   ],
   "source": [
    "crescimento_lidar = gdf_crescimento.loc[:, 'sum_delta'].sum() / 3.4 / 10**6\n",
    "crescimento_lidar"
   ]
  },
  {
   "cell_type": "code",
   "execution_count": null,
   "metadata": {},
   "outputs": [
    {
     "data": {
      "text/plain": [
       "10.327552491727939"
      ]
     },
     "execution_count": 10,
     "metadata": {},
     "output_type": "execute_result"
    }
   ],
   "source": [
    "crescimento_lidar - crescimento_cadastro"
   ]
  },
  {
   "cell_type": "code",
   "execution_count": null,
   "metadata": {},
   "outputs": [
    {
     "data": {
      "text/plain": [
       "0.007784886361177405"
      ]
     },
     "execution_count": 16,
     "metadata": {},
     "output_type": "execute_result"
    }
   ],
   "source": [
    "(gdf_crescimento.loc[:, 'sum_delta'].sum() / 3.4)  / gdf_crescimento.cidade_total_lidar_m2.sum() / 3"
   ]
  },
  {
   "cell_type": "code",
   "execution_count": null,
   "metadata": {},
   "outputs": [
    {
     "data": {
      "text/plain": [
       "0.38006795388634884"
      ]
     },
     "execution_count": 17,
     "metadata": {},
     "output_type": "execute_result"
    }
   ],
   "source": [
    "(crescimento_lidar - crescimento_cadastro) / crescimento_lidar"
   ]
  },
  {
   "cell_type": "code",
   "execution_count": null,
   "metadata": {},
   "outputs": [],
   "source": []
  }
 ],
 "metadata": {
  "kernelspec": {
   "display_name": "pdal",
   "language": "python",
   "name": "python3"
  },
  "language_info": {
   "codemirror_mode": {
    "name": "ipython",
    "version": 3
   },
   "file_extension": ".py",
   "mimetype": "text/x-python",
   "name": "python",
   "nbconvert_exporter": "python",
   "pygments_lexer": "ipython3",
   "version": "3.11.8"
  },
  "orig_nbformat": 4
 },
 "nbformat": 4,
 "nbformat_minor": 2
}
