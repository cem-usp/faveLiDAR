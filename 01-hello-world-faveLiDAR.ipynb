{
 "cells": [
  {
   "cell_type": "code",
   "execution_count": 1,
   "metadata": {},
   "outputs": [],
   "source": [
    "import pdal\n",
    "import json\n",
    "import pandas as pd\n",
    "import geopandas as gpd\n",
    "import numpy as np\n",
    "import math\n",
    "import alphashape\n",
    "from sklearn.cluster import DBSCAN #, OPTICS\n",
    "from sklearn import preprocessing\n"
   ]
  },
  {
   "cell_type": "code",
   "execution_count": null,
   "metadata": {},
   "outputs": [],
   "source": []
  },
  {
   "cell_type": "code",
   "execution_count": 2,
   "metadata": {},
   "outputs": [],
   "source": [
    "gdf_articulacao = gpd.read_file(\"zip://data/SIRGAS_SHP_quadriculamdt.zip!/SIRGAS_SHP_quadriculamdt/\")"
   ]
  },
  {
   "cell_type": "code",
   "execution_count": 3,
   "metadata": {},
   "outputs": [],
   "source": [
    "_ = gdf_articulacao.set_crs(epsg=31983, inplace=True)"
   ]
  },
  {
   "cell_type": "code",
   "execution_count": 4,
   "metadata": {},
   "outputs": [],
   "source": [
    "#gdf_articulacao.set_index('qmdt_cod').iloc[3315-361].geometry.exterior.coords\n",
    "coords = [[xy[0], xy[1]] for xy in gdf_articulacao.set_index('qmdt_cod').loc['3315-361'].geometry.exterior.coords]\n",
    "xy_max = np.max(np.array(coords), axis=0) \n",
    "xy_min = np.min(np.array(coords), axis=0)"
   ]
  },
  {
   "cell_type": "code",
   "execution_count": 5,
   "metadata": {},
   "outputs": [
    {
     "data": {
      "text/plain": [
       "array([1077., 1166.])"
      ]
     },
     "execution_count": 5,
     "metadata": {},
     "output_type": "execute_result"
    }
   ],
   "source": [
    "np.ceil(xy_max * 2) - np.ceil(xy_min * 2)"
   ]
  },
  {
   "cell_type": "code",
   "execution_count": 6,
   "metadata": {},
   "outputs": [
    {
     "data": {
      "text/plain": [
       "array([ 323586., 7386800.])"
      ]
     },
     "execution_count": 6,
     "metadata": {},
     "output_type": "execute_result"
    }
   ],
   "source": [
    "np.floor(xy_min * 2)/2"
   ]
  },
  {
   "cell_type": "code",
   "execution_count": 7,
   "metadata": {},
   "outputs": [],
   "source": [
    "resolution = 0.5"
   ]
  },
  {
   "cell_type": "code",
   "execution_count": 8,
   "metadata": {},
   "outputs": [],
   "source": [
    "laz = [\n",
    "    {\n",
    "        \"type\":\"readers.las\",\n",
    "        \"filename\":\"sample-data/sao-paulo/MDS_3315-361_1000.laz\"\n",
    "    },\n",
    "    {\n",
    "        \"filename\":f\"sample-results/sao-paulo/BHM-Z-3315-361.tiff\",\n",
    "        \"gdaldriver\":\"GTiff\",\n",
    "        \"width\": 1077,\n",
    "        \"height\": 1166,\n",
    "        \"origin_x\": 323586,\n",
    "        \"origin_y\": 7386800,\n",
    "        \"radius\": f'{resolution * 2 * np.sqrt(2)}',\n",
    "        \"override_srs\": \"EPSG:31983\",\n",
    "        \"output_type\":\"max\",\n",
    "        \"resolution\":resolution,\n",
    "        \"dimension\": \"Z\",\n",
    "        \"data_type\": \"float32\",\n",
    "        \"type\": \"writers.gdal\",\n",
    "        \"gdalopts\":\"COMPRESS=ZSTD, PREDICTOR=3, BIGTIFF=YES\",\n",
    "        \"where\": \"(Classification == 6)\",\n",
    "    },\n",
    "    {\n",
    "        \"type\":\"filters.range\",\n",
    "        \"limits\":\"Classification[6:6]\"\n",
    "    },\n",
    "    ## TODO\n",
    "    ## Tentar experimentar os dois tipos de clusteres\n",
    "    # {\n",
    "    #     \"type\":\"filters.cluster\",\n",
    "    #     \"min_points\":100,\n",
    "    #     \"tolerance\":0.3\n",
    "    # },\n",
    "    {\n",
    "        \"type\":\"filters.dbscan\",\n",
    "        \"min_points\":10,\n",
    "        \"eps\":1.0,\n",
    "        \"dimensions\":\"X,Y,Z,Red,Green,Blue\"\n",
    "    },\n",
    "    {\n",
    "        \"type\":\"writers.las\",\n",
    "        \"filename\":\"sample-results/sao-paulo/Cluster-3315-361.laz\",\n",
    "        \"extra_dims\": \"all\",\n",
    "        # \"output_dims\":\"X,Y,Z,ClusterID\"\n",
    "    },\n",
    "    {\n",
    "        \"type\":\"filters.hag_dem\",\n",
    "        \"raster\": \"sample-data/sao-paulo/MDT-3315-361.tiff\"\n",
    "    },\n",
    "    {\n",
    "        \"type\":\"filters.ferry\",\n",
    "        \"dimensions\":\"HeightAboveGround => Z\"\n",
    "    },\n",
    "    {\n",
    "        \"filename\":f\"sample-results/sao-paulo/BHM-3315-361.tiff\",\n",
    "        \"gdaldriver\":\"GTiff\",\n",
    "        \"output_type\":\"max\",\n",
    "        \"resolution\":\"0.5\",\n",
    "        \"width\": 1077,\n",
    "        \"height\": 1166,\n",
    "        \"origin_x\": 323586,\n",
    "        \"origin_y\": 7386800,\n",
    "        # \"nodata\":\"0\",\n",
    "        \"data_type\": \"float32\",\n",
    "        \"type\": \"writers.gdal\",\n",
    "        \"where\": \"(Classification == 6)\",\n",
    "        \"override_srs\": \"EPSG:31983\"\n",
    "    },\n",
    "]"
   ]
  },
  {
   "cell_type": "code",
   "execution_count": 9,
   "metadata": {},
   "outputs": [
    {
     "name": "stdout",
     "output_type": "stream",
     "text": [
      "Pipeline selected 3207051 points\n"
     ]
    }
   ],
   "source": [
    "pipeline = pdal.Pipeline(json.dumps(laz))\n",
    "# pipeline.validate()\n",
    "n_points = pipeline.execute()\n",
    "print(f'Pipeline selected {n_points} points')"
   ]
  },
  {
   "cell_type": "code",
   "execution_count": 10,
   "metadata": {},
   "outputs": [
    {
     "data": {
      "text/plain": [
       "Index(['X', 'Y', 'Z', 'Intensity', 'ReturnNumber', 'NumberOfReturns',\n",
       "       'ScanDirectionFlag', 'EdgeOfFlightLine', 'Classification',\n",
       "       'ScanAngleRank', 'UserData', 'PointSourceId', 'GpsTime', 'ScanChannel',\n",
       "       'ClassFlags', 'Red', 'Green', 'Blue', 'Infrared', 'ClusterID',\n",
       "       'HeightAboveGround'],\n",
       "      dtype='object')"
      ]
     },
     "execution_count": 10,
     "metadata": {},
     "output_type": "execute_result"
    }
   ],
   "source": [
    "arr = pipeline.arrays[0]\n",
    "df = pd.DataFrame(arr)\n",
    "# print(df.head().to_latex(index=False))\n",
    "df.columns"
   ]
  },
  {
   "cell_type": "code",
   "execution_count": 11,
   "metadata": {},
   "outputs": [
    {
     "data": {
      "text/plain": [
       "3306"
      ]
     },
     "execution_count": 11,
     "metadata": {},
     "output_type": "execute_result"
    }
   ],
   "source": [
    "len(df.ClusterID.unique())"
   ]
  },
  {
   "cell_type": "code",
   "execution_count": 12,
   "metadata": {},
   "outputs": [
    {
     "data": {
      "text/plain": [
       "-1       3156609\n",
       " 2449        576\n",
       " 2707        366\n",
       " 947         314\n",
       " 2933        240\n",
       "          ...   \n",
       " 672           8\n",
       " 3069          8\n",
       " 837           8\n",
       " 1919          7\n",
       " 2835          7\n",
       "Name: ClusterID, Length: 3306, dtype: int64"
      ]
     },
     "execution_count": 12,
     "metadata": {},
     "output_type": "execute_result"
    }
   ],
   "source": [
    "df.ClusterID.value_counts()"
   ]
  },
  {
   "cell_type": "code",
   "execution_count": null,
   "metadata": {},
   "outputs": [],
   "source": []
  }
 ],
 "metadata": {
  "kernelspec": {
   "display_name": "pdal",
   "language": "python",
   "name": "python3"
  },
  "language_info": {
   "codemirror_mode": {
    "name": "ipython",
    "version": 3
   },
   "file_extension": ".py",
   "mimetype": "text/x-python",
   "name": "python",
   "nbconvert_exporter": "python",
   "pygments_lexer": "ipython3",
   "version": "3.10.6"
  },
  "orig_nbformat": 4
 },
 "nbformat": 4,
 "nbformat_minor": 2
}
