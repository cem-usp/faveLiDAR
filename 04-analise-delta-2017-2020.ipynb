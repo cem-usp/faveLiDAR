{
 "cells": [
  {
   "cell_type": "code",
   "execution_count": 1,
   "metadata": {},
   "outputs": [],
   "source": [
    "from rasterstats import zonal_stats\n",
    "import geopandas as gpd\n",
    "import pandas as pd"
   ]
  },
  {
   "cell_type": "code",
   "execution_count": 2,
   "metadata": {},
   "outputs": [],
   "source": [
    "gdf_delta_formal = gpd.read_file('data/delta/IPTU-SP-diferenca-de-Área-Total-Construída-2017-ate-2020-por-distritos.gpkg')"
   ]
  },
  {
   "cell_type": "code",
   "execution_count": 3,
   "metadata": {},
   "outputs": [],
   "source": [
    "rs_delta = zonal_stats('data/delta/IPTU-SP-diferenca-de-Área-Total-Construída-2017-ate-2020-por-distritos.gpkg', \n",
    "                 'data/delta/MDS-sem-veg-acrescimo-2017-2020-crivado-mascarado-preenchido.tiff',\n",
    "                 stats=['sum', 'count', 'percentile_25', 'median', 'percentile_75', 'std', 'nodata'])"
   ]
  },
  {
   "cell_type": "code",
   "execution_count": 4,
   "metadata": {},
   "outputs": [],
   "source": [
    "rs_2017 = zonal_stats('data/delta/IPTU-SP-diferenca-de-Área-Total-Construída-2017-ate-2020-por-distritos.gpkg', \n",
    "                'data/2017/BHM-2017-1m.tiff',\n",
    "                 stats=['sum', 'count', 'percentile_25', 'median', 'percentile_75', 'std', 'nodata'])"
   ]
  },
  {
   "cell_type": "code",
   "execution_count": 5,
   "metadata": {},
   "outputs": [],
   "source": [
    "df_delta_2017 = pd.concat([gdf_delta_formal, pd.DataFrame(rs_delta).add_suffix('_delta'), pd.DataFrame(rs_2017).add_suffix('_2017')], axis=1)"
   ]
  },
  {
   "cell_type": "code",
   "execution_count": 18,
   "metadata": {},
   "outputs": [],
   "source": [
    "df_delta_2017.loc[:, 'total_m2_2017'] = df_delta_2017.sum_2017 / 3.40"
   ]
  },
  {
   "cell_type": "code",
   "execution_count": 19,
   "metadata": {},
   "outputs": [
    {
     "data": {
      "text/plain": [
       "Index(['ds_codigo', 'ds_subpref', 'ds_cd_sub', 'ds_sigla', 'ds_nome', '2017',\n",
       "       '2018', '2019', '2020', 'Área Total Construída', 'geometry',\n",
       "       'count_delta', 'sum_delta', 'std_delta', 'median_delta',\n",
       "       'percentile_25_delta', 'percentile_75_delta', 'nodata_delta',\n",
       "       'count_2017', 'sum_2017', 'std_2017', 'median_2017',\n",
       "       'percentile_25_2017', 'percentile_75_2017', 'nodata_2017',\n",
       "       'acrescimo_lidar_m2', 'taxa_de_informalidade_2017_2020',\n",
       "       'total_m2_2017'],\n",
       "      dtype='object')"
      ]
     },
     "execution_count": 19,
     "metadata": {},
     "output_type": "execute_result"
    }
   ],
   "source": [
    "df_delta_2017.columns"
   ]
  },
  {
   "cell_type": "code",
   "execution_count": 20,
   "metadata": {},
   "outputs": [],
   "source": [
    "df_delta_2017.loc[:, 'acrescimo_lidar_m2'] = df_delta_2017.sum_delta / 3.40"
   ]
  },
  {
   "cell_type": "code",
   "execution_count": 21,
   "metadata": {},
   "outputs": [],
   "source": [
    "df_delta_2017.loc[:, 'taxa_de_informalidade_2017_2020'] = df_delta_2017.acrescimo_lidar_m2 / df_delta_2017.loc[:, 'Área Total Construída']"
   ]
  },
  {
   "cell_type": "code",
   "execution_count": 23,
   "metadata": {},
   "outputs": [],
   "source": [
    "df_delta_2017.loc[:, 'metros_informais_2017_2020'] = df_delta_2017.acrescimo_lidar_m2 - df_delta_2017.loc[:, 'Área Total Construída']"
   ]
  },
  {
   "cell_type": "code",
   "execution_count": null,
   "metadata": {},
   "outputs": [],
   "source": [
    "df_delta_2017.loc[:, 'informalidade_geral_2020'] = (df_delta_2017.sum_2017 / 3.4) + df_delta_2017.acrescimo_lidar_m2 - df_delta_2017.loc[:, '2020']"
   ]
  },
  {
   "cell_type": "code",
   "execution_count": 22,
   "metadata": {},
   "outputs": [],
   "source": [
    "df_delta_2017.to_file('data/delta/distritos_zonal_stats.gpkg', driver='GPKG')"
   ]
  },
  {
   "cell_type": "code",
   "execution_count": null,
   "metadata": {},
   "outputs": [],
   "source": []
  }
 ],
 "metadata": {
  "kernelspec": {
   "display_name": "pdal",
   "language": "python",
   "name": "python3"
  },
  "language_info": {
   "codemirror_mode": {
    "name": "ipython",
    "version": 3
   },
   "file_extension": ".py",
   "mimetype": "text/x-python",
   "name": "python",
   "nbconvert_exporter": "python",
   "pygments_lexer": "ipython3",
   "version": "3.10.6"
  },
  "orig_nbformat": 4
 },
 "nbformat": 4,
 "nbformat_minor": 2
}
