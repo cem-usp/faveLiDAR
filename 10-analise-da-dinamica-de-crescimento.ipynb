{
 "cells": [
  {
   "cell_type": "code",
   "execution_count": 11,
   "metadata": {},
   "outputs": [],
   "source": [
    "import geopandas as gpd"
   ]
  },
  {
   "cell_type": "code",
   "execution_count": 13,
   "metadata": {},
   "outputs": [],
   "source": [
    "gdf_crescimento = gpd.read_file('data/delta/distritos_zonal_stats.gpkg')\n",
    "gdf_crescimento_favelas = gpd.read_file('data/delta/favelas_zonal_stats.gpkg')"
   ]
  },
  {
   "cell_type": "code",
   "execution_count": 5,
   "metadata": {},
   "outputs": [
    {
     "data": {
      "text/plain": [
       "Index(['ds_codigo', 'ds_subpref', 'ds_cd_sub', 'ds_sigla', 'ds_nome', '2017',\n",
       "       '2018', '2019', '2020', 'Área Total Construída', 'count_delta',\n",
       "       'sum_delta', 'std_delta', 'median_delta', 'percentile_25_delta',\n",
       "       'percentile_75_delta', 'nodata_delta', 'count_2017', 'sum_2017',\n",
       "       'std_2017', 'median_2017', 'percentile_25_2017', 'percentile_75_2017',\n",
       "       'nodata_2017', 'acrescimo_lidar_m2', 'taxa_de_informalidade_2017_2020',\n",
       "       'total_m2_2017', 'metros_informais_2017_2020',\n",
       "       'informalidade_geral_2020_m2', 'cidade_informal_m2',\n",
       "       'cidade_total_lidar_m2', 'geometry'],\n",
       "      dtype='object')"
      ]
     },
     "execution_count": 5,
     "metadata": {},
     "output_type": "execute_result"
    }
   ],
   "source": [
    "gdf_crescimento.columns"
   ]
  },
  {
   "cell_type": "code",
   "execution_count": 6,
   "metadata": {},
   "outputs": [
    {
     "data": {
      "text/plain": [
       "16.845358"
      ]
     },
     "execution_count": 6,
     "metadata": {},
     "output_type": "execute_result"
    }
   ],
   "source": [
    "crescimento_cadastro = gdf_crescimento.loc[:, 'Área Total Construída'].sum() / 10**6\n",
    "crescimento_cadastro"
   ]
  },
  {
   "cell_type": "code",
   "execution_count": 7,
   "metadata": {},
   "outputs": [
    {
     "data": {
      "text/plain": [
       "27.17291049172794"
      ]
     },
     "execution_count": 7,
     "metadata": {},
     "output_type": "execute_result"
    }
   ],
   "source": [
    "crescimento_lidar = gdf_crescimento.loc[:, 'sum_delta'].sum() / 3.4 / 10**6\n",
    "crescimento_lidar"
   ]
  },
  {
   "cell_type": "code",
   "execution_count": 20,
   "metadata": {},
   "outputs": [
    {
     "data": {
      "text/plain": [
       "9.838003"
      ]
     },
     "execution_count": 20,
     "metadata": {},
     "output_type": "execute_result"
    }
   ],
   "source": [
    "crescimento_lidar_projecao = gdf_crescimento.loc[:, 'count_delta'].sum() / 10**6\n",
    "crescimento_lidar_projecao"
   ]
  },
  {
   "cell_type": "code",
   "execution_count": 21,
   "metadata": {},
   "outputs": [
    {
     "data": {
      "text/plain": [
       "2.762035190650779"
      ]
     },
     "execution_count": 21,
     "metadata": {},
     "output_type": "execute_result"
    }
   ],
   "source": [
    "crescimento_lidar / crescimento_lidar_projecao"
   ]
  },
  {
   "cell_type": "code",
   "execution_count": 8,
   "metadata": {},
   "outputs": [
    {
     "data": {
      "text/plain": [
       "10.327552491727939"
      ]
     },
     "execution_count": 8,
     "metadata": {},
     "output_type": "execute_result"
    }
   ],
   "source": [
    "crescimento_lidar - crescimento_cadastro"
   ]
  },
  {
   "cell_type": "code",
   "execution_count": 9,
   "metadata": {},
   "outputs": [
    {
     "data": {
      "text/plain": [
       "0.007784886361177405"
      ]
     },
     "execution_count": 9,
     "metadata": {},
     "output_type": "execute_result"
    }
   ],
   "source": [
    "(gdf_crescimento.loc[:, 'sum_delta'].sum() / 3.4)  / gdf_crescimento.cidade_total_lidar_m2.sum() / 3"
   ]
  },
  {
   "cell_type": "code",
   "execution_count": 10,
   "metadata": {},
   "outputs": [
    {
     "data": {
      "text/plain": [
       "0.38006795388634884"
      ]
     },
     "execution_count": 10,
     "metadata": {},
     "output_type": "execute_result"
    }
   ],
   "source": [
    "(crescimento_lidar - crescimento_cadastro) / crescimento_lidar"
   ]
  },
  {
   "cell_type": "code",
   "execution_count": 15,
   "metadata": {},
   "outputs": [
    {
     "data": {
      "text/plain": [
       "Index(['ds_codigo', 'ds_subpref', 'ds_cd_sub', 'ds_sigla', 'ds_nome', '2017',\n",
       "       '2018', '2019', '2020', 'Área Total Construída', '2017_count',\n",
       "       '2017_sum', '2017_median', '2017_variance', 'delta_count', 'delta_sum',\n",
       "       'delta_median', 'delta_variance', 'geometry'],\n",
       "      dtype='object')"
      ]
     },
     "execution_count": 15,
     "metadata": {},
     "output_type": "execute_result"
    }
   ],
   "source": [
    "gdf_crescimento_favelas.columns"
   ]
  },
  {
   "cell_type": "code",
   "execution_count": 17,
   "metadata": {},
   "outputs": [
    {
     "data": {
      "text/plain": [
       "5.107643872543784"
      ]
     },
     "execution_count": 17,
     "metadata": {},
     "output_type": "execute_result"
    }
   ],
   "source": [
    "crescimento_favelas = gdf_crescimento_favelas.loc[:, 'delta_sum'].sum() / 3.4 / 10**6\n",
    "crescimento_favelas"
   ]
  },
  {
   "cell_type": "code",
   "execution_count": 27,
   "metadata": {},
   "outputs": [
    {
     "data": {
      "text/html": [
       "<div>\n",
       "<style scoped>\n",
       "    .dataframe tbody tr th:only-of-type {\n",
       "        vertical-align: middle;\n",
       "    }\n",
       "\n",
       "    .dataframe tbody tr th {\n",
       "        vertical-align: top;\n",
       "    }\n",
       "\n",
       "    .dataframe thead th {\n",
       "        text-align: right;\n",
       "    }\n",
       "</style>\n",
       "<table border=\"1\" class=\"dataframe\">\n",
       "  <thead>\n",
       "    <tr style=\"text-align: right;\">\n",
       "      <th></th>\n",
       "      <th>ds_nome</th>\n",
       "      <th>delta_sum</th>\n",
       "    </tr>\n",
       "  </thead>\n",
       "  <tbody>\n",
       "    <tr>\n",
       "      <th>60</th>\n",
       "      <td>VILA ANDRADE</td>\n",
       "      <td>1.007234e+06</td>\n",
       "    </tr>\n",
       "    <tr>\n",
       "      <th>46</th>\n",
       "      <td>IGUATEMI</td>\n",
       "      <td>9.557380e+05</td>\n",
       "    </tr>\n",
       "    <tr>\n",
       "      <th>61</th>\n",
       "      <td>JARDIM ANGELA</td>\n",
       "      <td>8.845720e+05</td>\n",
       "    </tr>\n",
       "    <tr>\n",
       "      <th>85</th>\n",
       "      <td>SANTO AMARO</td>\n",
       "      <td>8.223293e+05</td>\n",
       "    </tr>\n",
       "    <tr>\n",
       "      <th>65</th>\n",
       "      <td>GRAJAU</td>\n",
       "      <td>8.173468e+05</td>\n",
       "    </tr>\n",
       "  </tbody>\n",
       "</table>\n",
       "</div>"
      ],
      "text/plain": [
       "          ds_nome     delta_sum\n",
       "60   VILA ANDRADE  1.007234e+06\n",
       "46       IGUATEMI  9.557380e+05\n",
       "61  JARDIM ANGELA  8.845720e+05\n",
       "85    SANTO AMARO  8.223293e+05\n",
       "65         GRAJAU  8.173468e+05"
      ]
     },
     "execution_count": 27,
     "metadata": {},
     "output_type": "execute_result"
    }
   ],
   "source": [
    "gdf_crescimento_favelas.loc[:, ['ds_nome', 'delta_sum']].sort_values(by='delta_sum', ascending=False).head(5)"
   ]
  },
  {
   "cell_type": "code",
   "execution_count": 19,
   "metadata": {},
   "outputs": [
    {
     "data": {
      "text/plain": [
       "2.46257"
      ]
     },
     "execution_count": 19,
     "metadata": {},
     "output_type": "execute_result"
    }
   ],
   "source": [
    "crescimento_favelas_projecao = gdf_crescimento_favelas.loc[:, 'delta_count'].sum() / 10**6\n",
    "crescimento_favelas_projecao"
   ]
  },
  {
   "cell_type": "code",
   "execution_count": 22,
   "metadata": {},
   "outputs": [
    {
     "data": {
      "text/plain": [
       "2.0741111410208783"
      ]
     },
     "execution_count": 22,
     "metadata": {},
     "output_type": "execute_result"
    }
   ],
   "source": [
    "crescimento_favelas / crescimento_favelas_projecao"
   ]
  },
  {
   "cell_type": "code",
   "execution_count": null,
   "metadata": {},
   "outputs": [],
   "source": []
  }
 ],
 "metadata": {
  "kernelspec": {
   "display_name": "pdal",
   "language": "python",
   "name": "python3"
  },
  "language_info": {
   "codemirror_mode": {
    "name": "ipython",
    "version": 3
   },
   "file_extension": ".py",
   "mimetype": "text/x-python",
   "name": "python",
   "nbconvert_exporter": "python",
   "pygments_lexer": "ipython3",
   "version": "3.12.2"
  },
  "orig_nbformat": 4
 },
 "nbformat": 4,
 "nbformat_minor": 2
}
